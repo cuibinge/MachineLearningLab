{
 "cells": [
  {
   "cell_type": "markdown",
   "id": "e3c2589d",
   "metadata": {},
   "source": [
    "# 实验十：神经网络算法\n",
    "### 概述\n",
    "&ensp;&ensp; 本实验实现神经网络算法的具体应用。\n",
    "### 实验环境\n",
    "+ 希冀云实验平台\n",
    "+ Ubuntu\n",
    "+ Jupyter NoteBook\n",
    "\n",
    "### 实验目标\n",
    "\n",
    "   完成本实验后，您能够：\n",
    "1. 掌握神经网络算法的具体应用\n",
    "2. 详细了解神经网络的TensorFlow的具体实现\n",
    "3. 掌握如何将标签转为向量形式"
   ]
  },
  {
   "cell_type": "markdown",
   "id": "e13c1e98",
   "metadata": {},
   "source": [
    "### 任务：时装类别识别\n",
    "#### 【数据集介绍】\n",
    "&ensp;&ensp;时装类别识别问题的任务是预测一张图片中的时装类别。时装类别识别问题的数据来自Zalando Research。在时装数据集中，共有60 000张时装的图片。每张图片表示一个28X28的像素灰度矩阵，并且含有一个属于{0, 1…,9}的标签，用于表明图片中所示的时装类别。时装总共有10种类别：T恤衫、长裤、套头衫、连衣裙、外套、高跟鞋、衬衣、休闲鞋、提包以及靴子，对应的类别号为0~9。图8.33是各类别的时装数据采样。\n",
    "![image-3](./image-3.png)\n",
    "#### 【任务目标】\n",
    "&ensp;&ensp;用神经网络模型来求解时装类别识别问题\n",
    "#### 【任务步骤】\n",
    "1. 生成训练数据与测试数据\n",
    "2. 数据标签采用向量标签形式\n",
    "3. 生成模型的网络结构\n",
    "4. 指定损失函数\n",
    "5. 训练模型\n",
    "6. 测试模型\n",
    "7. 进行Softmax变换\n",
    "8. 用最大概率分类函数对类别进行预测\n",
    "9. 计算预测的准确率等"
   ]
  },
  {
   "cell_type": "markdown",
   "id": "85336b4c",
   "metadata": {},
   "source": [
    "### 请在下载实验数据处下载时装数据fashion-mnist_train.csv至当前目录。"
   ]
  },
  {
   "cell_type": "code",
   "execution_count": null,
   "id": "7bdb9fdd",
   "metadata": {},
   "outputs": [],
   "source": [
    "#导入先关库\n",
    "import numpy as np\n",
    "import pandas as pd\n",
    "import neural_network as nn\n",
    "from sklearn.metrics import accuracy_score\n",
    "from sklearn.metrics import recall_score\n",
    "from sklearn.metrics import precision_score\n",
    "from sklearn.metrics import f1_score\n",
    "from sklearn.model_selection import train_test_split\n",
    "from sklearn.preprocessing import MinMaxScaler\n",
    "from sklearn.preprocessing import OneHotEncoder"
   ]
  },
  {
   "cell_type": "code",
   "execution_count": null,
   "id": "e18a413a",
   "metadata": {},
   "outputs": [],
   "source": [
    "# 读取时装数据\n",
    "def get_data():\n",
    "    df = pd.read_csv(\"./fashion-mnist_train.csv\")\n",
    "    y = df['label'].values\n",
    "    df.drop(['label'], 1, inplace = True)\n",
    "    X = df.values\n",
    "    return X, y"
   ]
  },
  {
   "cell_type": "code",
   "execution_count": null,
   "id": "a8316942",
   "metadata": {},
   "outputs": [],
   "source": [
    "# 生成训练数据与测试数据\n",
    "X, c = get_data()\n",
    "encoder  = OneHotEncoder()\n",
    "y = encoder.fit_transform(c.reshape(-1, 1)).toarray()\n",
    "X_train, X_test, y_train, y_test, c_train, c_test = train_test_split(X, y, c, random_state = 0, test_size = 0.2)"
   ]
  },
  {
   "cell_type": "code",
   "execution_count": null,
   "id": "c955aaf8",
   "metadata": {},
   "outputs": [],
   "source": [
    "\n",
    "\n"
   ]
  },
  {
   "cell_type": "code",
   "execution_count": null,
   "id": "fa768572",
   "metadata": {},
   "outputs": [],
   "source": [
    "#计算指标，本指标使用加权的方式计算多分类问题\n",
    "accuracy = accuracy_score(c_test, c_pred)\n",
    "precision = precision_score(c_test, c_pred,average = 'weighted')\n",
    "recall = recall_score(c_test, c_pred,average = 'weighted')\n",
    "f1 = f1_score(c_test, c_pred,average = 'weighted')\n",
    "print(\"accuracy = {}\".format(accuracy))\n",
    "print(\"precision = {}\".format(precision))\n",
    "print(\"recall = {}\".format(recall))\n",
    "print(\"f1 = {}\".format(f1))"
   ]
  }
 ],
 "metadata": {
  "kernelspec": {
   "display_name": "Python 3",
   "language": "python",
   "name": "python3"
  },
  "language_info": {
   "codemirror_mode": {
    "name": "ipython",
    "version": 3
   },
   "file_extension": ".py",
   "mimetype": "text/x-python",
   "name": "python",
   "nbconvert_exporter": "python",
   "pygments_lexer": "ipython3",
   "version": "3.8.8"
  }
 },
 "nbformat": 4,
 "nbformat_minor": 5
}
