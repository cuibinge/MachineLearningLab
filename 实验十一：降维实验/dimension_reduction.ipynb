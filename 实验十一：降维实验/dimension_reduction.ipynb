{
 "cells": [
  {
   "cell_type": "markdown",
   "metadata": {},
   "source": [
    "# 实验十一：降维实验\n",
    "### 概述\n",
    "&ensp;&ensp; 本实验实现降维算法的具体应用。\n",
    "### 实验环境\n",
    "+ Ubuntu\n",
    "+ Jupyter NoteBook\n",
    "\n",
    "### 实验目标\n",
    "\n",
    "   完成本实验后，您能够：\n",
    "1. 掌握降维算法的几种方法\n",
    "2. 能够利用降维算法对高维数据进行有效处理"
   ]
  },
  {
   "cell_type": "markdown",
   "metadata": {},
   "source": [
    "### 知识介绍\n",
    "保留信息量（Preserved Information）：保留信息量是指降维后的数据能够尽可能地保留原始数据的信息。可以使用解释方差比例（explained variance ratio）来衡量，它表示降维后的数据能够解释原始数据方差的百分比。较高的解释方差比例表示降维算法能够有效地保留原始数据的信息。\n",
    "\n",
    "解释方差比例的值范围在0到1之间，表示对原始数据方差的贡献程度。较大的解释方差比例意味着降维后的特征更能够解释原始数据的方差，保留了更多的重要信息。\n",
    "\n",
    "解释方差比例可以通过降维算法中的explained_variance_ratio_属性获得。对于主成分分析（PCA）等常见的降维算法，该属性返回一个已排序的数组，其中每个元素表示对应主成分的解释方差比例。\n",
    "\n",
    "例如，如果解释方差比例数组为[0.8, 0.15, 0.05]，则说明第一个主成分能够解释原始数据方差的80%，第二个主成分解释15%，第三个主成分解释5%。\n",
    "\n",
    "通过解释方差比例，你可以判断降维后的主成分在保持数据信息方面的重要性，并根据需求选择合适的降维维度。通常情况下，选择解释方差比例较高的主成分，以保留更多的原始数据信息。"
   ]
  },
  {
   "cell_type": "markdown",
   "metadata": {},
   "source": [
    "### 任务1：鸢尾花数据集降维\n",
    "#### 【数据集介绍】\n",
    "&ensp;&ensp;鸢尾花数据集中的每一条数据都含有4个特征：花瓣长、花瓣宽、花萼长、花萼宽。每条数据有一个取值属于{0,1,2}的标签，表示鸢尾花的种属。\n",
    "#### 【任务目标】\n",
    "&ensp;&ensp;分别用主成分分析法、主成分分析的核方法以及线性判别分析法将数据降至二维，并比较这3个算法的降维效果"
   ]
  },
  {
   "cell_type": "code",
   "execution_count": 31,
   "metadata": {},
   "outputs": [],
   "source": [
    "# 导入程序必要的包\n",
    "import numpy as np\n",
    "import matplotlib.pyplot as plt\n",
    "from sklearn import datasets\n",
    "#from pca import PCA\n",
    "from sklearn.decomposition import PCA\n",
    "from kernel_pca import KernelPCA\n",
    "from lda import LDA"
   ]
  },
  {
   "cell_type": "code",
   "execution_count": 19,
   "metadata": {},
   "outputs": [
    {
     "ename": "IndentationError",
     "evalue": "expected an indented block (<ipython-input-19-c59fef3eb877>, line 8)",
     "output_type": "error",
     "traceback": [
      "\u001B[1;36m  File \u001B[1;32m\"<ipython-input-19-c59fef3eb877>\"\u001B[1;36m, line \u001B[1;32m8\u001B[0m\n\u001B[1;33m    iris = datasets.load_iris()\u001B[0m\n\u001B[1;37m    ^\u001B[0m\n\u001B[1;31mIndentationError\u001B[0m\u001B[1;31m:\u001B[0m expected an indented block\n"
     ]
    }
   ],
   "source": [
    "# 实现高斯核函数\n",
    "def rbf_kernel(x1, x2):\n",
    "#####  Start Code Here  #####  \n",
    "\n",
    "    \n",
    "    \n",
    "# 加载数据集\n",
    "iris = datasets.load_iris()\n",
    "X = iris.data\n",
    "y = iris.target\n",
    "\n",
    "# 定义pca算法\n",
    "\n",
    "\n",
    "# 调用fit_transform进行降维\n",
    "\n",
    "#计算解释方差比例\n",
    "explained_variance_=model.explained_variance_# 查看降维后每个新特征向量上所带的信息量大小（方差大小）\n",
    "explained_variance_ratio_=model.explained_variance_ratio_#查看降维后每个新特征向量所占的信息量占原始数据总信息量的百分比\n",
    "explained_variance_ratio_sum1=model.explained_variance_ratio_.sum()#总占比\n",
    "print(\"方差：\", explained_variance_)\n",
    "print(\"百分比：\", explained_variance_ratio_)\n",
    "print(\"解释方差总占比：\", explained_variance_ratio_sum1)\n",
    "\n",
    "# 结果展示\n",
    "plt.figure(0)\n",
    "plt.scatter(Z_pca[:,0], Z_pca[:,1], c = y)\n",
    "plt.show()\n",
    "\n",
    "# 定义KernelPCA算法\n",
    "\n",
    " \n",
    "# 调用fit_transform进行降维\n",
    "\n",
    "\n",
    "# 展示结果\n",
    "plt.figure(1)\n",
    "plt.scatter(Z_kpca[:,0], Z_kpca[:,1], c = y)\n",
    "plt.show()\n",
    "\n",
    "# 定义LDA算法\n",
    "\n",
    "\n",
    "# 调用fit_transform进行降维\n",
    "\n",
    "\n",
    "#####  End Code Here  #####  \n",
    "\n",
    "# 结果展示\n",
    "plt.figure(2)\n",
    "plt.scatter(Z_lda[:,0], Z_lda[:,1], c = y)\n",
    "plt.show()"
   ]
  },
  {
   "cell_type": "markdown",
   "metadata": {},
   "source": [
    "### 任务2：同心圆数据集降维\n",
    "#### 【数据集介绍】\n",
    "&ensp;&ensp;Sklearn 数据库中提供了同心圆数据集。在同心圆数据集中，每个数据都是一个二维向量，表示平面上的一个点。数据集中共含有两类数据，一类数据的分布形成平面上一个大圆，另一类数据的分布形成平面上一个小圆。\n",
    "#### 【任务目标】\n",
    "&ensp;&ensp;分别用主成分分析法、主成分分析的核方法以及线性判别分析法将数据降至一维，并比较这3个算法的降维效果"
   ]
  },
  {
   "cell_type": "code",
   "execution_count": 34,
   "metadata": {},
   "outputs": [],
   "source": [
    "# 导入程序必要的包\n",
    "from sklearn.datasets import make_circles"
   ]
  },
  {
   "cell_type": "code",
   "execution_count": 11,
   "metadata": {},
   "outputs": [
    {
     "data": {
      "image/png": "[encoded data removed]",
      "text/plain": [
       "<Figure size 432x288 with 1 Axes>"
      ]
     },
     "metadata": {
      "needs_background": "light"
     },
     "output_type": "display_data"
    },
    {
     "name": "stderr",
     "output_type": "stream",
     "text": [
      "C:\\Users\\10211\\AppData\\Local\\conda\\conda\\envs\\pytorch\\lib\\site-packages\\numpy\\core\\_asarray.py:136: ComplexWarning: Casting complex values to real discards the imaginary part\n",
      "  return array(a, dtype, copy=False, order=order, subok=True)\n"
     ]
    },
    {
     "data": {
      "image/png": "[encoded data removed]",
      "text/plain": [
       "<Figure size 432x288 with 1 Axes>"
      ]
     },
     "metadata": {
      "needs_background": "light"
     },
     "output_type": "display_data"
    },
    {
     "data": {
      "image/png": "[encoded data removed]",
      "text/plain": [
       "<Figure size 432x288 with 1 Axes>"
      ]
     },
     "metadata": {
      "needs_background": "light"
     },
     "output_type": "display_data"
    }
   ],
   "source": [
    "# 加载同心圆数据集    \n",
    "X, y = make_circles(n_samples = 400, factor = .3, noise = .05)\n",
    "\n",
    "#####  Start Code Here  #####  \n",
    "# 定义pca算法\n",
    "\n",
    "\n",
    "# 调用fit_transform进行降维\n",
    "\n",
    "#计算解释方差比例\n",
    "explained_variance_=model.explained_variance_# 查看降维后每个新特征向量上所带的信息量大小（方差大小）\n",
    "explained_variance_ratio_=model.explained_variance_ratio_#查看降维后每个新特征向量所占的信息量占原始数据总信息量的百分比\n",
    "explained_variance_ratio_sum2=model.explained_variance_ratio_.sum()#总占比\n",
    "print(\"方差：\", explained_variance_)\n",
    "print(\"百分比：\", explained_variance_ratio_)\n",
    "print(\"解释方差总占比：\", explained_variance_ratio_sum2)\n",
    "\n",
    "# 结果展示\n",
    "plt.figure(0)\n",
    "plt.scatter(Z_pca, np.ones(Z_pca.shape), c = y,cmap = 'rainbow')\n",
    "plt.show()\n",
    "\n",
    "# 定义KernelPCA算法\n",
    "\n",
    "\n",
    "# 调用fit_transform进行降维\n",
    "\n",
    "\n",
    "# 结果展示（参照上面填写）\n",
    "\n",
    "\n",
    "# 定义LDA算法\n",
    "\n",
    "\n",
    "# 调用fit_transform进行降维\n",
    "\n",
    "\n",
    "#####  End Code Here  #####  \n",
    "\n",
    "# 结果展示\n",
    "plt.figure(2)\n",
    "plt.scatter(Z_lda, np.ones(Z_lda.shape), c = y, cmap = 'rainbow')\n",
    "plt.show()"
   ]
  },
  {
   "cell_type": "code",
   "execution_count": null,
   "metadata": {},
   "outputs": [],
   "source": []
  }
 ],
 "metadata": {
  "kernelspec": {
   "display_name": "Python 3 (ipykernel)",
   "language": "python",
   "name": "python3"
  },
  "language_info": {
   "codemirror_mode": {
    "name": "ipython",
    "version": 3
   },
   "file_extension": ".py",
   "mimetype": "text/x-python",
   "name": "python",
   "nbconvert_exporter": "python",
   "pygments_lexer": "ipython3",
   "version": "3.11.4"
  }
 },
 "nbformat": 4,
 "nbformat_minor": 2
}
