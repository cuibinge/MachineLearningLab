{
 "cells": [
  {
   "cell_type": "markdown",
   "id": "1f9a520f",
   "metadata": {},
   "source": [
    "# 实验八：软间隔支持向量机算法\n",
    "### 概述\n",
    "&ensp;&ensp; 本实验实现软间隔支持向量机算法的具体应用。\n",
    "### 实验环境\n",
    "+ Ubuntu\n",
    "+ Jupyter NoteBook\n",
    "\n",
    "### 实验目标\n",
    "\n",
    "&ensp;&ensp;完成本实验后，您能够\n",
    "1. 进一步掌握软间隔支持向量机算法的原理\n",
    "2. 掌握使用软间隔支持向量机算法解决现实世界问题\n",
    "3. 掌握使用软间隔支持向量机的次梯度下降优化算法解决实际问题"
   ]
  },
  {
   "cell_type": "code",
   "execution_count": null,
   "id": "08b868b5",
   "metadata": {},
   "outputs": [],
   "source": [
    "import numpy as np\n",
    "from sklearn.model_selection import train_test_split\n",
    "import matplotlib.pyplot as plt\n",
    "from scipy.io import loadmat\n",
    "from sklearn.metrics import accuracy_score\n",
    "from sklearn.metrics import recall_score\n",
    "from sklearn.metrics import precision_score\n",
    "from sklearn.metrics import f1_score"
   ]
  },
  {
   "cell_type": "markdown",
   "id": "46284cd6",
   "metadata": {},
   "source": [
    "### 任务1：SoftSVM算法\n",
    "#### 【任务目标】\n",
    "实现软间隔支持向量机算法\n",
    "#### 【任务步骤】\n",
    "1. 继承SVM类\n",
    "2. 重写get_H函数\n",
    "3. 重写get_L函数"
   ]
  },
  {
   "cell_type": "code",
   "execution_count": null,
   "id": "c045fd34",
   "metadata": {},
   "outputs": [],
   "source": [
    "\"\"\"\n",
    "类说明：SoftSVM\n",
    "    编写代码实现软间隔支持向量机算法\n",
    "    \n",
    "Parameters:\n",
    "      Lambda   - 拉格朗日乘子\n",
    "      i, j     - 分量\n",
    "      y        - 标签\n",
    "      C        - 控制惩罚强度的参数\n",
    "Returns:\n",
    "\"\"\"\n",
    "class SoftSVM(SVM):\n",
    "    def __init__(self, C = 1000):\n",
    "        self.C = C\n",
    "#####  Start Code Here  #####\n",
    "    # 定义H_i,j\n",
    "    def get_H(self, Lambda, i, j, y):\n",
    "       \n",
    "    \n",
    "    \n",
    "    # 定义L_i,j\n",
    "    def get_L(self, Lambda, i, j, y):\n",
    "       \n",
    "    \n",
    " \n",
    " #####  End Code Here  #####"
   ]
  },
  {
   "cell_type": "markdown",
   "id": "4dfac052",
   "metadata": {},
   "source": [
    "### 任务2：软间隔支持向量机的次梯度下降算法\n",
    "#### 【任务目标】\n",
    "实现软间隔支持向量机的次梯度下降算法\n",
    "#### 【任务步骤】\n",
    "1. 由SoftSVMGD的构造函数传入控制惩罚强度的参数C\n",
    "2. 定义模型训练的fit函数\n",
    "3. 定义预测函数"
   ]
  },
  {
   "cell_type": "code",
   "execution_count": null,
   "id": "b3b29013",
   "metadata": {},
   "outputs": [],
   "source": [
    "\"\"\"\n",
    "类说明：SoftSVMGD\n",
    "    编写代码实现软间隔支持向量机算法\n",
    "    \n",
    "Parameters:\n",
    "      C        - 控制惩罚强度的参数\n",
    "      X        - 特征\n",
    "      y        - 标签\n",
    "     eta       - 学习速率\n",
    "      N        - 搜索步数\n",
    "Returns:\n",
    "\"\"\"\n",
    "class SoftSVMGD:\n",
    "    def __init__(self, C = 1000):\n",
    "        self.C = C\n",
    "\n",
    "    # 定义模型训练的fit函数\n",
    "    def fit(self, X, y, eta=0.01, N=5000):\n",
    "#####  Start Code Here  #####\n",
    "\n",
    "        \n",
    "        \n",
    "#####  End Code Here  #####\n",
    "\n",
    "    def predict(self, X):\n",
    "        return np.sign(X.dot(self.w) + self.b)"
   ]
  },
  {
   "cell_type": "markdown",
   "id": "df963641",
   "metadata": {},
   "source": [
    "### 任务3：软间隔支持向量机实现垃圾邮件分类\n",
    "\n",
    "在练习文本中，有一个任务涉及一些文本预处理，以获得适合SVM处理的格式的数据。 然而，这个任务很简单（将字词映射到为练习提供的字典中的ID），而其余的预处理步骤（如HTML删除，词干，标准化等）已经完成。 我将跳过机器学习任务，而不是重现这些预处理步骤，其中包括从预处理过的训练集构建分类器，以及将垃圾邮件和非垃圾邮件转换为单词出现次数的向量的测试数据集。\n",
    "\n",
    "你需要**将数据从文件`spamTrain.mat`和`spamTest.mat`中加载，并分别构建训练集和测试集**。\n",
    "\n",
    "**要点**：\n",
    "- 将你读入的数据输出\n",
    "- 从数据中提取对应的`X, y, Xtest, ytest`\n",
    "- 确保你的数据形状依次为：`(X(4000, 1899), y(4000,), Xtest(1000, 1899), ytest(1000,))`"
   ]
  },
  {
   "cell_type": "code",
   "execution_count": null,
   "id": "38192443",
   "metadata": {},
   "outputs": [],
   "source": [
    "#数据获取\n",
    "spam_train = loadmat('spamTrain.mat')\n",
    "spam_test = loadmat('spamTest.mat')\n",
    "\n",
    "X_train = spam_train['X']\n",
    "X_test = spam_test['Xtest']\n",
    "y_train = spam_train['y'].ravel()\n",
    "y_test = spam_test['ytest'].ravel()"
   ]
  },
  {
   "cell_type": "markdown",
   "id": "02abb834",
   "metadata": {},
   "source": [
    "每个文档已经转换为一个向量，其中1899个维对应于词汇表中的1899个单词。它们的值为二进制，表示文档中是否存在单词。\n",
    "\n",
    "因此，训练评估是用一个分类器拟合测试数据的问题。"
   ]
  },
  {
   "cell_type": "code",
   "execution_count": null,
   "id": "e0274c19",
   "metadata": {},
   "outputs": [],
   "source": [
    "#模型训练及预测\n",
    "\n",
    "\n"
   ]
  },
  {
   "cell_type": "code",
   "execution_count": null,
   "id": "951e403b",
   "metadata": {},
   "outputs": [],
   "source": [
    "#计算指标\n",
    "accuracy = accuracy_score(y_test, y_pred)\n",
    "precision = precision_score(y_test, y_pred)\n",
    "recall = recall_score(y_test, y_pred)\n",
    "f1 = f1_score(y_test, y_pred)\n",
    "print(\"accuracy = {}\".format(accuracy))\n",
    "print(\"precision = {}\".format(precision))\n",
    "print(\"recall = {}\".format(recall))\n",
    "print(\"f1 = {}\".format(f1))"
   ]
  }
 ],
 "metadata": {
  "kernelspec": {
   "display_name": "Python 3",
   "language": "python",
   "name": "python3"
  },
  "language_info": {
   "codemirror_mode": {
    "name": "ipython",
    "version": 3
   },
   "file_extension": ".py",
   "mimetype": "text/x-python",
   "name": "python",
   "nbconvert_exporter": "python",
   "pygments_lexer": "ipython3",
   "version": "3.8.8"
  }
 },
 "nbformat": 4,
 "nbformat_minor": 5
}
