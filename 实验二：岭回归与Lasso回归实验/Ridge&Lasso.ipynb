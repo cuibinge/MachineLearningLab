{
 "cells": [
  {
   "cell_type": "markdown",
   "id": "9ffa4365",
   "metadata": {},
   "source": [
    "# 实验二：岭回归和Lasso回归"
   ]
  },
  {
   "cell_type": "markdown",
   "id": "7c5c3338",
   "metadata": {},
   "source": [
    "## 概述\n",
    "本实验中使用两个不同的数据集分别来测试岭回归算法和Lasso回归算法\n",
    "### 实验环境与工具\n",
    "- Ubuntu\n",
    "- Jupyter NoteBook\n",
    "\n",
    "### 实验目标\n",
    "\n",
    "   完成本实验后，您能够\n",
    "1. 掌握如何对数据进行标准化及归一化处理\n",
    "2. 掌握如何使用L1正则化对算法进行优化，防止算法过拟合\n",
    "3. 掌握如何使用L2正则化对算法进行优化，防止算法过拟合\n"
   ]
  },
  {
   "cell_type": "code",
   "execution_count": 24,
   "id": "c58058e1",
   "metadata": {},
   "outputs": [],
   "source": [
    "import numpy as np\n",
    "from sklearn.datasets import load_boston, fetch_california_housing\n",
    "from sklearn.model_selection import train_test_split\n",
    "from sklearn.metrics import r2_score, mean_squared_error\n",
    "from sklearn.preprocessing import StandardScaler\n",
    "from sklearn.preprocessing import PolynomialFeatures"
   ]
  },
  {
   "cell_type": "markdown",
   "id": "2532b707",
   "metadata": {},
   "source": [
    "### 任务1：Lasso回归\n",
    "#### 【目标】\n",
    "实现使用次梯度下降算法对Lasso回归问题的求解\n",
    "#### 【步骤】\n",
    "1. 传入特征组和标签，以及学习率和搜索步数\n",
    "2. 计算目标函数的次梯度\n",
    "3. 更新 w 的值"
   ]
  },
  {
   "cell_type": "code",
   "execution_count": 25,
   "id": "31b60c79",
   "metadata": {},
   "outputs": [],
   "source": [
    "\"\"\"\n",
    "### 类说明：Lasso\n",
    "    编写代码实现使用次梯度下降算法对Lasso回归算法的求解\n",
    "    \n",
    "### 参数说明：\n",
    "      X   - 特征组\n",
    "      y   - 标签\n",
    "    eta   - 学习率\n",
    "      N   - 搜索步数\n",
    "   Lambda - 正则化系数\n",
    "### 返回：\n",
    "\"\"\"\n",
    "class Lasso:\n",
    "    def __init__(self, Lambda = 1):\n",
    "        self.w = None\n",
    "        self.Lambda = Lambda\n",
    "\n",
    "    def fit(self, X, y, eta = 0.1, N = 1000):\n",
    "    #####  Start Code Here  #####   \n",
    "        # 获取X的维度\n",
    "       \n",
    "    \n",
    "        # 初始化w\n",
    "       \n",
    "    \n",
    "        # 开始N轮循环，使用次梯度下降算法对Lasso回归求解\n",
    "        for t in range(N):\n",
    "        \n",
    "        \n",
    "        self.w /= N\n",
    "    #####  End Code Here  #####\n",
    "    \n",
    "    def predict(self, X):\n",
    "        return X.dot(self.w)"
   ]
  },
  {
   "cell_type": "markdown",
   "id": "6b664245",
   "metadata": {},
   "source": [
    "### 任务2：岭回归\n",
    "#### 【目标】\n",
    "实现岭回归算法\n",
    "#### 【步骤】\n",
    "1. 传入特征和标签\n",
    "2. 计算岭回归目标函数的最优解"
   ]
  },
  {
   "cell_type": "code",
   "execution_count": 26,
   "id": "b08b2ec3",
   "metadata": {},
   "outputs": [],
   "source": [
    "\"\"\"\n",
    "### 类说明：RidgeRegression\n",
    "    编写代码实现实现岭回归算法\n",
    "    \n",
    "### 参数说明：\n",
    "      X   - 特征组\n",
    "      y   - 标签\n",
    "   Lambda - 正则化系数\n",
    "### 返回：\n",
    "\"\"\"\n",
    "class RidgeRegression:\n",
    "    def __init__(self, Lambda = 1):\n",
    "        self.Lambda = Lambda\n",
    "\n",
    "    def fit(self, X, y):\n",
    "    #####  Start Code Here  ##### \n",
    "        # 获取X的维度\n",
    "        \n",
    "        \n",
    "        # 计算岭回归目标函数的最优解\n",
    "\n",
    "        \n",
    "    #####  End Code Here  ##### \n",
    "    \n",
    "    def predict(self, X):\n",
    "        return X.dot(self.w)"
   ]
  },
  {
   "cell_type": "markdown",
   "id": "45cf66fd",
   "metadata": {},
   "source": [
    "### 任务3：房价预测\n",
    "#### 【目标】\n",
    "使用Lasso回归和岭回归算法来求解房价预测问题。\n",
    "#### 【步骤】\n",
    "1. 加载加尼福利亚房屋数据集\n",
    "2. 按照一定比例划分训练集和测试集\n",
    "3. 对训练集和测试集进行特征处理\n",
    "4. 定义模型进行训练\n",
    "5. 计算模型训练得分、模型测试得分以及均方误差"
   ]
  },
  {
   "cell_type": "code",
   "execution_count": 27,
   "id": "84349b60",
   "metadata": {},
   "outputs": [
    {
     "name": "stdout",
     "output_type": "stream",
     "text": [
      "Lasso训练模型得分：0.5440910157354927\n",
      "Lasso待测模型得分：0.5197645913575298\n",
      "Lasso模型的mse = 0.6262053153644891\n",
      "岭回归训练模型得分：0.6088968110701722\n",
      "岭回归待测模型得分：0.5951290172207409\n",
      "岭回归模型的mse = 0.5279335028000165\n"
     ]
    }
   ],
   "source": [
    "def process_features(X):\n",
    "    scaler = StandardScaler()\n",
    "    X = scaler.fit_transform(X)\n",
    "    m, n = X.shape\n",
    "    X = np.c_[np.ones((m, 1)), X]  \n",
    "    return X\n",
    "\n",
    "# 加载房价数据集\n",
    "housing = fetch_california_housing()\n",
    "X = housing.data\n",
    "y = housing.target.reshape(-1, 1)\n",
    "\n",
    "#####  Start Code Here  #####\n",
    "# 划分数据集，训练测试集比例 8:2\n",
    "\n",
    "\n",
    "# 对训练集和测试集进行特征处理\n",
    "\n",
    "\n",
    "# 定义Lasso回归模型\n",
    "\n",
    "\n",
    "# 训练模型\n",
    "\n",
    "\n",
    "mse = mean_squared_error(y_test, model.predict(X_test))\n",
    "print(\"Lasso模型训练得分：\" + str(r2_score(y_train, model.predict(X_train))))  # 训练集\n",
    "print(\"Lasso模型测试得分：\" + str(r2_score(y_test, model.predict(X_test))))  # 待测集\n",
    "print(\"Lasso模型的均方误差 = {}\".format(mse))\n",
    "\n",
    "# 定义岭回归模型\n",
    "\n",
    "\n",
    "# 训练模型\n",
    "\n",
    "\n",
    "#####  End Code Here  #####\n",
    "\n",
    "mse = mean_squared_error(y_test, model.predict(X_test))\n",
    "print(\"岭回归模型训练得分：\" + str(r2_score(y_train, model.predict(X_train))))  # 训练集\n",
    "print(\"岭回归模型测试得分：\" + str(r2_score(y_test, model.predict(X_test))))  # 待测集\n",
    "print(\"岭回归模型的均方误差 = {}\".format(mse))"
   ]
  },
  {
   "cell_type": "markdown",
   "id": "e868f442",
   "metadata": {},
   "source": [
    "### 任务4：多项式回归\n",
    "#### 【目标】\n",
    "使用Lasso回归和岭回归求解多项式回归问题\n",
    "#### 【步骤】\n",
    "1. 加载加尼福利亚房屋数据集\n",
    "2. 按照一定比例划分训练集和测试集\n",
    "3. 对特征组进行多项式处理\n",
    "4. 对数据进行特征处理\n",
    "5. 定义模型进行训练\n",
    "6. 计算模型训练得分、模型测试得分以及均方误差"
   ]
  },
  {
   "cell_type": "code",
   "execution_count": 1,
   "id": "3c0562b3",
   "metadata": {},
   "outputs": [
    {
     "ename": "NameError",
     "evalue": "name 'np' is not defined",
     "output_type": "error",
     "traceback": [
      "\u001b[1;31m---------------------------------------------------------------------------\u001b[0m",
      "\u001b[1;31mNameError\u001b[0m                                 Traceback (most recent call last)",
      "\u001b[1;32m~\\AppData\\Local\\Temp/ipykernel_66376/262811073.py\u001b[0m in \u001b[0;36m<module>\u001b[1;34m\u001b[0m\n\u001b[0;32m      3\u001b[0m     \u001b[0my\u001b[0m \u001b[1;33m=\u001b[0m \u001b[0mX\u001b[0m \u001b[1;33m+\u001b[0m \u001b[0mnp\u001b[0m\u001b[1;33m.\u001b[0m\u001b[0mrandom\u001b[0m\u001b[1;33m.\u001b[0m\u001b[0mnormal\u001b[0m\u001b[1;33m(\u001b[0m\u001b[1;36m0\u001b[0m\u001b[1;33m,\u001b[0m \u001b[1;36m0.3\u001b[0m\u001b[1;33m,\u001b[0m \u001b[1;33m(\u001b[0m\u001b[0mm\u001b[0m\u001b[1;33m,\u001b[0m \u001b[1;36m1\u001b[0m\u001b[1;33m)\u001b[0m\u001b[1;33m)\u001b[0m\u001b[1;33m\u001b[0m\u001b[1;33m\u001b[0m\u001b[0m\n\u001b[0;32m      4\u001b[0m     \u001b[1;32mreturn\u001b[0m \u001b[0mX\u001b[0m\u001b[1;33m,\u001b[0m \u001b[0my\u001b[0m\u001b[1;33m\u001b[0m\u001b[1;33m\u001b[0m\u001b[0m\n\u001b[1;32m----> 5\u001b[1;33m \u001b[0mnp\u001b[0m\u001b[1;33m.\u001b[0m\u001b[0mrandom\u001b[0m\u001b[1;33m.\u001b[0m\u001b[0mseed\u001b[0m\u001b[1;33m(\u001b[0m\u001b[1;36m100\u001b[0m\u001b[1;33m)\u001b[0m\u001b[1;33m\u001b[0m\u001b[1;33m\u001b[0m\u001b[0m\n\u001b[0m\u001b[0;32m      6\u001b[0m \u001b[1;33m\u001b[0m\u001b[0m\n\u001b[0;32m      7\u001b[0m \u001b[0mpoly\u001b[0m \u001b[1;33m=\u001b[0m \u001b[0mPolynomialFeatures\u001b[0m\u001b[1;33m(\u001b[0m\u001b[0mdegree\u001b[0m \u001b[1;33m=\u001b[0m \u001b[1;36m10\u001b[0m\u001b[1;33m)\u001b[0m\u001b[1;33m\u001b[0m\u001b[1;33m\u001b[0m\u001b[0m\n",
      "\u001b[1;31mNameError\u001b[0m: name 'np' is not defined"
     ]
    }
   ],
   "source": [
    "def process_features(X):\n",
    "    scaler = StandardScaler()\n",
    "    X = scaler.fit_transform(X)\n",
    "    m, n = X.shape\n",
    "    X = np.c_[np.ones((m, 1)), X]  \n",
    "    return X\n",
    "\n",
    "poly = PolynomialFeatures(degree = 2)\n",
    "#####  Start Code Here  #####\n",
    "# 加载数据集\n",
    "housing = fetch_california_housing()\n",
    "X = housing.data\n",
    "y = housing.target.reshape(-1, 1)\n",
    "\n",
    "# 划分训练集和测试集\n",
    "\n",
    "\n",
    "# 对训练数据进行多项式处理\n",
    "\n",
    "\n",
    "# 对测试数据进行多项式处理\n",
    "\n",
    "\n",
    "# 对训练集和测试集进行特征处理\n",
    "\n",
    "\n",
    "# 定义Lasso回归模型\n",
    "\n",
    "\n",
    "# 训练模型\n",
    "\n",
    "\n",
    "mse = mean_squared_error(y_test, model.predict(X_test))\n",
    "print(\"Lasso模型训练得分：\" + str(r2_score(y_train, model.predict(X_train))))  # 训练集\n",
    "print(\"Lasso模型测试得分：\" + str(r2_score(y_test, model.predict(X_test))))  # 待测集\n",
    "print(\"Lasso模型的均方误差 = {}\".format(mse))\n",
    "\n",
    "# 定义岭回归模型\n",
    "\n",
    "\n",
    "# 训练模型\n",
    "\n",
    "\n",
    "#####  End Code Here  #####\n",
    "mse = mean_squared_error(y_test, model.predict(X_test))\n",
    "print(\"岭回归模型训练得分：\" + str(r2_score(y_train, model.predict(X_train))))  # 训练集\n",
    "print(\"岭回归模型测试得分：\" + str(r2_score(y_test, model.predict(X_test))))  # 待测集\n",
    "print(\"岭回归模型的均方误差 = {}\".format(mse))"
   ]
  }
 ],
 "metadata": {
  "kernelspec": {
   "display_name": "Python 3 (ipykernel)",
   "language": "python",
   "name": "python3"
  },
  "language_info": {
   "codemirror_mode": {
    "name": "ipython",
    "version": 3
   },
   "file_extension": ".py",
   "mimetype": "text/x-python",
   "name": "python",
   "nbconvert_exporter": "python",
   "pygments_lexer": "ipython3",
   "version": "3.9.7"
  }
 },
 "nbformat": 4,
 "nbformat_minor": 5
}
