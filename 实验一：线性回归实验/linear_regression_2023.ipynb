{
 "cells": [
  {
   "cell_type": "markdown",
   "id": "9d1217fe",
   "metadata": {},
   "source": [
    "## 实验介绍"
   ]
  },
  {
   "cell_type": "markdown",
   "id": "99b1c746",
   "metadata": {},
   "source": [
    "### 1.实验内容"
   ]
  },
  {
   "cell_type": "markdown",
   "id": "da0cfe22",
   "metadata": {},
   "source": [
    "本实验首先介绍一元线性回归的基本思想，然后给出其背后的数学原理。\n",
    "\n",
    "接着给出两个基于一元线性回归预测房价的示例，\n",
    "\n",
    "    第一个示例中，使用一元线性回归预测汽车的重量和每加仑油量可行驶距离；\n",
    "    第二个示例中，使用一元线性回归根据房屋面积预测房屋价格。\n",
    "    \n",
    "在这两个示例中，你将综合运Python，pandas，numpy，matplotlib，sklearn。"
   ]
  },
  {
   "cell_type": "markdown",
   "id": "cd939389",
   "metadata": {},
   "source": [
    "### 2.实验目标"
   ]
  },
  {
   "cell_type": "markdown",
   "id": "b0d42b60",
   "metadata": {},
   "source": [
    "通过本实验掌握一元线性回归的基本思想，了解其背后的数学原理。\n",
    "\n",
    "可以将一元线性回归应用到真实世界中的预测问题中。\n",
    "\n",
    "学会numpy，matplotlib以及sklearn库的使用。"
   ]
  },
  {
   "cell_type": "markdown",
   "id": "917c7302",
   "metadata": {},
   "source": [
    "### 3.实验知识点"
   ]
  },
  {
   "cell_type": "markdown",
   "id": "ed172074",
   "metadata": {},
   "source": [
    "* 一元线性回归基本思想\n",
    "* 一元线性回归数学原理\n",
    "* 一元线性回归的应用\n",
    "* numpy，matplotlib，pandas，sklearn的使用"
   ]
  },
  {
   "cell_type": "markdown",
   "id": "6a2f7c50",
   "metadata": {},
   "source": [
    "### 4.实验环境"
   ]
  },
  {
   "cell_type": "markdown",
   "id": "74be49e7",
   "metadata": {},
   "source": [
    "* python 3.6.5  \n",
    "* numpy 1.14.5\n",
    "* matplotlib 2.2.2\n",
    "* sklearn 0.19.1\n",
    "* pandas 0.23.1"
   ]
  },
  {
   "cell_type": "markdown",
   "id": "8c04b0f1",
   "metadata": {},
   "source": [
    "### 5.预备知识"
   ]
  },
  {
   "cell_type": "markdown",
   "id": "eadf86de",
   "metadata": {},
   "source": [
    "* 微积分，偏微分（非必须）\n",
    "* Linux命令基本操作  \n",
    "* Python编程基础\n",
    "\n",
    "注意：对一元线性回归背后的数学原理不用达到掌握的层次，事实上，在了解一元线性回归的基本思想后，利用sklearn等工具就可以很便捷的解决相关问题了。"
   ]
  },
  {
   "cell_type": "markdown",
   "id": "5e73ecb3",
   "metadata": {},
   "source": [
    "## 实验原理 "
   ]
  },
  {
   "cell_type": "markdown",
   "id": "a076750b",
   "metadata": {},
   "source": [
    "### 1. 回归与机器学习"
   ]
  },
  {
   "cell_type": "markdown",
   "id": "53ade379",
   "metadata": {},
   "source": [
    "机器学习监督学习算法分为分类和回归两种，其实就是根据类别标签分布类型而定义的，分类算法用于离散型分布预测，如kNN、决策树、朴素贝叶斯、Adaboost、SVM、Logistic回归都是分类算法；回归算法用于连续型分布预测，针对的是数值型的样本。回归也是统计学中最有力的工具之一，使用回归，可以在给定输入后给出预测的数值。回归的目的就是建立一个回归方程用来预测目标值，回归的求解就是求这个回归方程的回归系数。在回归方程确定后，预测结果很简单，将输入值带入回归方程即可。\n",
    "\n",
    "机器学习中的参数模型指的是：通过建模找到一个最大程度拟合数据的模型，通过确定损失函数（或效用函数，统称为目标函数），最优化目标函数来获得机器学习模型的参数。回归分析指的是利用已知的数据，最大程度的拟合样本与输出标记，即产生拟合方程，从而对未知的数据进行预测。在一元线性回归模型中，需要找到一条可以最大程度拟合输入和输出的直线。"
   ]
  },
  {
   "cell_type": "markdown",
   "id": "85f060cc",
   "metadata": {},
   "source": [
    "### 2. 一元线性回归"
   ]
  },
  {
   "cell_type": "markdown",
   "id": "13f96e7b",
   "metadata": {},
   "source": [
    "一元线性回归是一种简单的模型，但应用广泛，比如简单地预测商品价格、成本评估等，都可以用一元线性模型。比如：告诉你(1,1),(2,2),(3,3)，那么问你(4,?)是多少，很容易复原出来(4,4)，这就是一元线性回归问题的求解。一元线性回归是数据挖掘的基础模型，其中包含了非常重要的数学回归的概念，是学习多元回归，广义线性回归的基础。\n",
    "\n",
    "若X与y之间存在着较强的相关关系，则有：\n",
    "\n",
    "　　　　　　　　　　　　　　　　　　$y=a+bX$\n",
    "\n",
    "若$a$与$b$的值已知，则给出相应的X值，我们可以得到相应的$y$的预测值。一元线性回归涉及的参数及含义如下：  \n",
    "　　* 截距项$a$  \n",
    "　　* 斜率$b$\n",
    "\n",
    "一元线性回归的问题求解就是求解参数$a$，$b$。"
   ]
  },
  {
   "cell_type": "markdown",
   "id": "9b145e9b",
   "metadata": {},
   "source": [
    "### 3. Sklearn简介"
   ]
  },
  {
   "cell_type": "markdown",
   "id": "0967b0d6",
   "metadata": {},
   "source": [
    "Scikit learn 也简称sklearn，是机器学习领域当中最知名的python模块之一。sklearn包含了很多机器学习的方式：\n",
    "* Classification 分类\n",
    "* Regression 回归\n",
    "* Clustering 非监督分类\n",
    "* Dimensionality reduction 数据降维\n",
    "* Model Selection 模型选择\n",
    "* Preprocessing 数据与处理\n",
    "\n",
    "使用sklearn可以很方便地让我们实现一个机器学习算法。一个复杂度算法的实现，使用sklearn可能只需要调用几行API即可。所以学习sklearn，可以有效减少我们特定任务的实现周期。sklearn对数据挖掘和机器学习的各类算法进行了较好的封装，基本可以使用fit、predict、score来训练、预测、评价模型。"
   ]
  },
  {
   "cell_type": "markdown",
   "id": "6cb8e287",
   "metadata": {},
   "source": [
    "## 准备工作"
   ]
  },
  {
   "cell_type": "markdown",
   "id": "a7a528f2",
   "metadata": {},
   "source": [
    "点击屏幕右上方的下载实验数据模块，选择下载linear_regression.tgz到指定目录下，然后再依次选择点击上方的File->Open->Upload,上传刚才下载的数据集压缩包，再使用如下命令解压："
   ]
  },
  {
   "cell_type": "markdown",
   "id": "0c2e63ae",
   "metadata": {},
   "source": [
    "!tar -zxvf linear_regression.tgz"
   ]
  },
  {
   "cell_type": "markdown",
   "id": "bf2b9a18",
   "metadata": {},
   "source": [
    "## 一元线性回归的数学原理"
   ]
  },
  {
   "cell_type": "markdown",
   "id": "504dbe96",
   "metadata": {},
   "source": [
    "对于一元线性回归来说，可以看成Y的值是随着X的值变化，每一个实际的X都会有一个实际的Y值，我们叫Y实际，那么我们要求出一条直线，每一个实际的X都会有一个直线预测的Y值，我们叫做Y预测，回归线使得每个Y的实际值与预测值之差的平方和最小，即（Y1实际-Y1预测）^2+（Y2实际-Y2预测）^2+ …… +（Yn实际-Yn预测）^2的和最小。现在来实际求一下这条线：\n",
    "\\begin{equation}\n",
    "Q(a, b) = \\sum_{i=1}^{n}(Y_i - (aX_i + b))^2\n",
    "\\end{equation}\n",
    "\n",
    "我们都知道直线在坐标系可以表示为Y=aX+b，所以（Y实际-Y预测）就可以写成（Y实际-（aX实际+b）），于是平方和可以写成a和b的函数。只需要求出让Q最小的a和b的值，那么回归线的也就求出来了。现在说明函数最小值怎么求：首先，一元函数最小值点的导数为零，比如说Y=X^2，X^2的导数是2X，令2X=0，求得X=0的时候，Y取最小值。那么实质上二元函数也是一样可以类推。不妨把二元函数图象设想成一个曲面，最小值想象成一个凹陷，那么在这个凹陷底部，从任意方向上看，偏导数都是0。因此，对于函数Q，分别对于a和b求偏导数，然后令偏导数等于0，就可以得到一个关于a和b的二元方程组，就可以求出a和b了。这个方法被称为最小二乘法。下面是具体的数学演算过程，。先把Q函数表达式展开：\n",
    "\\begin{equation}\n",
    "\\begin{aligned}\n",
    "Q(a, b) &= \\sum_{i=1}^{n}(Y_i - (aX_i + b))^2 \\\\\n",
    "&= (Y_1 - (aX_1 + b))^2 + (Y_2 - (aX_2 + b))^2 + \\ldots + (Y_n - (aX_n + b))^2 \\\\\n",
    "&= [Y_1^2 - 2Y_1(aX_1 + b) + (aX_1 + b)^2] + [Y_2^2 - 2Y_2(aX_2 + b) + (aX_2 + b)^2] + \\ldots + [Y_n^2 - 2Y_n(aX_n + b) + (aX_n + b)^2] \\\\\n",
    "&= Y_1^2 - 2Y_1aX_1 - 2Y_1b + a^2X_1^2 + 2aX_1b + b^2 \\\\\n",
    "&\\quad + Y_2^2 - 2Y_2aX_2 - 2Y_2b + a^2X_2^2 + 2aX_2b + b^2 \\\\\n",
    "&\\quad + \\ldots \\\\\n",
    "&\\quad + Y_n^2 - 2Y_naX_n - 2Y_nb + a^2X_n^2 + 2aX_nb + b^2 \\\\\n",
    "&= (Y_1^2 + \\ldots + Y_n^2) - 2a(X_1Y_1 + \\ldots + X_nY_n) - 2b(Y_1 + \\ldots + Y_n) + a^2(X_1^2 + \\ldots + X_n^2) + 2ab(X_1 + \\ldots + X_n) + nb^2\n",
    "\\end{aligned}\n",
    "\\end{equation}\n",
    "\n",
    "然后利用平均数，把上面式子中每个括号里的内容进一步化简。例如Y^2的平均表示如下：\n",
    "\\begin{equation}\n",
    "\\frac{Y_1^2 + \\ldots + Y_n^2}{n} = \\overline{Y^2}\n",
    "\\end{equation}\n",
    "\n",
    "则：\n",
    "\\begin{equation}\n",
    "Y_1^2 + \\ldots + Y_n^2 = n \\overline{Y^2}\n",
    "\\end{equation}\n",
    "\n",
    "上式子两边×n，于是Q最终化简结果为：\n",
    "\\begin{equation}\n",
    "Q(a, b) = n\\overline{Y^2} - 2an\\overline{XY} - 2bn\\overline{Y} + a^2n\\overline{X^2} + 2abn\\overline{X} + nb^2\n",
    "\\end{equation}\n",
    "\n",
    "然后分别对Q求a的偏导数和b的偏导数，令偏导数等于0：\n",
    "\\begin{equation}\n",
    "\\begin{aligned}\n",
    "\\frac{\\partial Q}{\\partial a} &= -2n\\overline{XY} + 2an\\overline{X^2} + 2bn\\overline{X} = 0 \\\\\n",
    "\\frac{\\partial Q}{\\partial b} &= -2n\\overline{Y} + 2an\\overline{X} + 2nb = 0\n",
    "\\end{aligned}\n",
    "\\end{equation}\n",
    "\n",
    "进一步化简，可以消掉2n，最后得到关于a，b的二元方程组为：\n",
    "\\begin{equation}\n",
    "\\begin{aligned}\n",
    "-\\overline{XY} + a\\overline{X^2} + b\\overline{X} &= 0 \\\\\n",
    "-\\overline{Y} + a\\overline{X} + b &= 0\n",
    "\\end{aligned}\n",
    "\\end{equation}\n",
    "\n",
    "最后得出a和b的求解公式如下：\n",
    "\\begin{equation}\n",
    "\\begin{aligned}\n",
    "a &= \\frac{\\overline{XY} - \\overline{X}\\overline{Y}}{(\\overline{X})^2 - \\overline{X^2}} \\\\\n",
    "b &= \\overline{Y} - a\\overline{X}\n",
    "\\end{aligned}\n",
    "\\end{equation}\n"
   ]
  },
  {
   "cell_type": "markdown",
   "id": "c7a810de",
   "metadata": {},
   "source": [
    "## 引言 "
   ]
  },
  {
   "cell_type": "markdown",
   "id": "9d46d1d1",
   "metadata": {},
   "source": [
    "### 1. 项目文件结构"
   ]
  },
  {
   "cell_type": "markdown",
   "id": "9c789c05",
   "metadata": {},
   "source": [
    "实验目录下有3个文件：  \n",
    "　price_info.csv  \n",
    "　auto-mpg.data  \n",
    "　auto_mpg.csv  \n",
    "其中：price_info.csv为房屋价格预测的数据集；auto-mpg.data为车辆行驶距离预测的数据集，auto_mpg.csv是该数据集的csv版本。"
   ]
  },
  {
   "cell_type": "markdown",
   "id": "a2ae829c",
   "metadata": {},
   "source": [
    "### 2. 开始实验"
   ]
  },
  {
   "cell_type": "markdown",
   "id": "c86fd3ec",
   "metadata": {},
   "source": [
    "接下来的实验步骤将引导你学习一元线性回归的相关知识。\n",
    "\n",
    "**首先引入我们系统需要用到的Python的相关库。**"
   ]
  },
  {
   "cell_type": "code",
   "execution_count": 2,
   "id": "be470d60",
   "metadata": {},
   "outputs": [],
   "source": [
    "import numpy as np\n",
    "from sklearn.linear_model import LinearRegression\n",
    "import matplotlib.pyplot as plt\n",
    "from matplotlib.font_manager import FontProperties\n",
    "import pandas as pd"
   ]
  },
  {
   "cell_type": "markdown",
   "id": "b0b8e793",
   "metadata": {},
   "source": [
    "## sklearn实现简单的一元线性回归 "
   ]
  },
  {
   "cell_type": "markdown",
   "id": "9d072eba",
   "metadata": {},
   "source": [
    "这里，我们首先用一些模拟数据做一元线性回归，首先我们使用方程y=2x+1作为参考曲线，在输出给定计算结果时，加一些随机干扰，让结果距离曲线有点距离。\n",
    "\n",
    "输入x分别为：1, 2, 3, 4, 5\n",
    "\n",
    "输出y应该为：3, 5, 7, 9, 11\n",
    "\n",
    "添加干扰后y的值为：3.1, 5.2, 6.8, 8.8, 11.1\n",
    "\n",
    "接着我们使用sklearn的线性回归类对x和y进行拟合，sklearn中线性回归类的原型为：\n",
    "\n",
    "LinearRegression(fit_intercept=True,normalize=False,copy_X=True,n_jobs=1)\n",
    "\n",
    "其中各个参数的含义如下：\n",
    "\n",
    "* fit_intercept:是否有截据，如果没有，则直线过原点。默认为有截距。\n",
    "* normalize:是否将数据归一化，默认是不做归一化。\n",
    "* copy_X:默认为True，当为True时，X会被copied,否则X将会被覆写。\n",
    "* n_jobs:默认值为1，计算时使用的核数。\n",
    "\n",
    "一般使用时，就用默认参数就可以。输入以下内容："
   ]
  },
  {
   "cell_type": "code",
   "execution_count": 3,
   "id": "dbd0cf7f",
   "metadata": {},
   "outputs": [
    {
     "name": "stdout",
     "output_type": "stream",
     "text": [
      "[[1.96]]\n",
      "[1.12]\n",
      "[12.88]\n"
     ]
    }
   ],
   "source": [
    "#设定X向量\n",
    "x = [[1],[2],[3],[4],[5]]\n",
    "#设定Y向量\n",
    "y = [[3.1],[5.2],[6.8],[8.8],[11.1]]\n",
    "#创建线性回归模型\n",
    "model = LinearRegression()\n",
    "#使用X和Y进行拟合\n",
    "model.fit(x, y)\n",
    "#输出线性方程的斜率，即b的值\n",
    "print(model.coef_)\n",
    "#输出线性方程的截距，即a的值\n",
    "print(model.intercept_)\n",
    "#在x=6时，预测y的值\n",
    "predicted = model.predict([[6]])[0]\n",
    "#输出y的结果\n",
    "print(predicted)"
   ]
  },
  {
   "cell_type": "markdown",
   "id": "9216ed0e",
   "metadata": {},
   "source": [
    "\n",
    "LinearRegression将方程分为两个部分存放，coef_存放回归系数，intercept_则存放截距，因此要查看方程，就是查看这两个变量的取值。\n",
    "\n",
    "上述代码给出了斜率(1.96)、截距(1.12)、以及输入值为6时的预测结果（12.88）。\n",
    "\n",
    "接着，我们使用matplotlib将X和Y构成的散点以及表示回归方程的直线绘制出来，可以更加直观的看到线性回归的结果以及各个三点到直线的偏移量。\n",
    "\n",
    "**绘制图像的代码如下所示，以绘制出图像。**"
   ]
  },
  {
   "cell_type": "code",
   "execution_count": 4,
   "id": "d93a2404",
   "metadata": {},
   "outputs": [
    {
     "data": {
      "image/png": "[encoded data removed]",
      "text/plain": [
       "<Figure size 432x288 with 1 Axes>"
      ]
     },
     "metadata": {
      "needs_background": "light"
     },
     "output_type": "display_data"
    }
   ],
   "source": [
    "#启动一个新的图像实例\n",
    "plt.figure()\n",
    "#设置图像标题\n",
    "plt.title('Linear Regression Demo')\n",
    "#设定坐标轴的X轴和Y轴的标题\n",
    "plt.xlabel('x')\n",
    "plt.ylabel('y')\n",
    "plt.axis([0, 8, 0, 20])\n",
    "#设定网格开关为显示\n",
    "plt.grid(True)\n",
    "#绘制由X向量和Y向量构成的散点图，参数\"k.\"中，其中k表示颜色为卡其色，点表示散点图\n",
    "plt.plot(x, y, 'k.')\n",
    "#绘制回归方程的直线，将x的范围设定为0到7，y的值由x进行计算\n",
    "x1 = [[0],[1],[2],[3],[4],[5],[6],[7]]\n",
    "y1 = model.predict(x1)\n",
    "#绘制该直线，参数“g-”表示绘制时颜色选择绿色，-表示点与点直接使用实线连接\n",
    "plt.plot(x1,y1,'g-')\n",
    "#显示图像\n",
    "plt.show()"
   ]
  },
  {
   "cell_type": "markdown",
   "id": "bde935c4",
   "metadata": {},
   "source": [
    "## numpy计算一元线性回归参数 "
   ]
  },
  {
   "cell_type": "markdown",
   "id": "3c638043",
   "metadata": {},
   "source": [
    "事实上，我们也可以基于numpy计算出一元线性回归方程中参数$b$和$a$的值，其数学原理如下：  \n",
    "1.向量$x$的方差为：\n",
    "\\begin{equation}\n",
    "\\text{var}(x) = \\frac{\\sum_{i=1}^{n}(x_i - \\overline{x})^2}{n - 1}\n",
    "\\end{equation}\n",
    "\n",
    "2.向量$x$和向量$y$的协方差为：  \n",
    "\\begin{equation}\n",
    "\\text{cov(x, y)} = \\frac{\\sum_{i=1}^{n}(x_i - \\overline{x})(y_i - \\overline{y})}{n - 1}\n",
    "\\end{equation}\n",
    "3.由第三小节中，我们知道$b$的计算方式为：  \n",
    "\\begin{equation}\n",
    "b = \\frac{\\sum_{i=1}^{n}(x_i - \\overline{x})(y_i - \\overline{y})}{\\sum_{i=1}^{n}(x_i - \\overline{x})^2}\n",
    "\\end{equation}\n",
    "所以$b$可以由$$\n",
    "\\frac{\\text{cov(x, y)}}{\\text{var(x)}}\n",
    "$$\n",
    "得到，在知道$b$的值以后，根据以下公式：  \n",
    "\\begin{equation}\n",
    "a = \\overline{y} - b\\overline{x}\n",
    "\\end{equation}\n",
    "可以计算出$a$的值，从而求出线性方程的参数。现在我们基于numpy求解线性方程的参数，添加以下代码："
   ]
  },
  {
   "cell_type": "code",
   "execution_count": 6,
   "id": "89a24877",
   "metadata": {},
   "outputs": [
    {
     "name": "stdout",
     "output_type": "stream",
     "text": [
      "coef based on numpy:1.9600000000000002\n",
      "intercept based on numpy:1.1199999999999992\n"
     ]
    }
   ],
   "source": [
    "#计算X方差\n",
    "var_x = np.var([1,2,3,4,5], ddof=1)\n",
    "#计算X和Y的协方差\n",
    "cov = np.cov([1,2,3,4,5], [3.1,5.2,6.8,8.8,11.1])[0][1] \n",
    "#协方差除以方差得到拟合方程的斜率\n",
    "coef = cov/var_x\n",
    "\n",
    "print(\"coef based on numpy:\",end='')\n",
    "print(coef)\n",
    "\n",
    "#计算X的均值\n",
    "mean_x = np.mean([1,2,3,4,5])\n",
    "#计算Y的均值\n",
    "mean_y = np.mean([3.1,5.2,6.8,8.8,11.1])\n",
    "#根据公式计算截距\n",
    "intercept = mean_y - coef * mean_x\n",
    "\n",
    "print(\"intercept based on numpy:\",end='')\n",
    "print(intercept)"
   ]
  },
  {
   "cell_type": "markdown",
   "id": "3277c79b",
   "metadata": {},
   "source": [
    "从上图的输出结果中可以看出，基于numpy计算得到的斜率和截距和sklearn拟合曲线给出的结果是一致的。"
   ]
  },
  {
   "cell_type": "markdown",
   "id": "d5f502cb",
   "metadata": {},
   "source": [
    "## 【实验实战】用一元线性回归预测房价 "
   ]
  },
  {
   "cell_type": "markdown",
   "id": "50f74476",
   "metadata": {},
   "source": [
    "房价预测的数据集如下：\n",
    "![](13_linear_regression.png)  \n",
    "数据已经被存储在price_info.csv文件中，使用以下命令查看文件内容："
   ]
  },
  {
   "cell_type": "code",
   "execution_count": null,
   "id": "5db32c0d",
   "metadata": {},
   "outputs": [],
   "source": [
    "!cat linear_regression/price_info.csv"
   ]
  },
  {
   "cell_type": "markdown",
   "id": "13ea8f13",
   "metadata": {},
   "source": [
    "文件内容如下所示：\n",
    "![](14_linear_regression.png)  \n",
    "接下来，我们开始编写线性回归的代码，并预测700英尺时的房价。\n",
    "\n",
    "**利用pandas的read_csv函数加载csv文件，然后依次读取square_feet和price这两列数据，将平方英尺和价格分别放入到X向量和Y向量中，然后将X和Y返回。**"
   ]
  },
  {
   "cell_type": "code",
   "execution_count": 8,
   "id": "f3aede36",
   "metadata": {},
   "outputs": [],
   "source": [
    "# 从csv文件中读取数据，分别为：X列表和对应的Y列表\n",
    "def get_data(file_name):\n",
    "    # 1. 用pandas读取csv\n",
    "\n",
    "    ### 代码实现 ###\n",
    "    \n",
    "    # 2. 构造X列表和Y列表\n",
    "    X = []\n",
    "    Y = []\n",
    "    \n",
    "    ### 代码实现 ###\n",
    "\n",
    "    return X,Y"
   ]
  },
  {
   "cell_type": "markdown",
   "id": "e3404601",
   "metadata": {},
   "source": [
    "线性回归模型的建立下所示，利用LinearRegression类，可以很方便的建立线性回归模型。"
   ]
  },
  {
   "cell_type": "code",
   "execution_count": 9,
   "id": "0a9d4f10",
   "metadata": {},
   "outputs": [],
   "source": [
    "# 获取线性回归模型\n",
    "def get_linear_model(X,Y):\n",
    "    # 1.创建线性回归模型\n",
    "    \n",
    "    ### 代码实现 ###\n",
    "    \n",
    "    # 2.使用X\\Y对模型进行拟合\n",
    "    \n",
    "    ### 代码实现 ###\n",
    "    \n",
    "    return model"
   ]
  },
  {
   "cell_type": "markdown",
   "id": "1f3aa4ce",
   "metadata": {},
   "source": [
    "绘制预测结果的代码如下所示："
   ]
  },
  {
   "cell_type": "code",
   "execution_count": 12,
   "id": "f3450136",
   "metadata": {},
   "outputs": [],
   "source": [
    "# 绘出图像\n",
    "def show_linear_line(X,Y,model):\n",
    "    # 1. 绘出已知数据散点图\n",
    "    \n",
    "    ### 代码实现 ###\n",
    "    \n",
    "    # 2. 绘出预测直线，并设定图像标题和坐标轴的标题\n",
    "    \n",
    "    ### 代码实现 ###\n",
    "    \n",
    "    plt.show()"
   ]
  },
  {
   "cell_type": "markdown",
   "id": "3fff6343",
   "metadata": {},
   "source": [
    "主函数的控制流程如下所示："
   ]
  },
  {
   "cell_type": "code",
   "execution_count": 13,
   "id": "b111b4e2",
   "metadata": {},
   "outputs": [],
   "source": [
    "def main():\n",
    "    # 1. 读取数据\n",
    "    X,Y = get_data('linear_regression/price_info.csv')\n",
    "    # 2. 模型训练\n",
    "    model = get_linear_model(X,Y)\n",
    "    # 3. 获取700平方英尺时的预测价格\n",
    "    \n",
    "    ### 代码实现 ###\n",
    "    \n",
    "    # 4. 绘图\n",
    "    show_linear_line(X,Y,model)\n",
    "\n",
    "if __name__ == '__main__':\n",
    "    main()"
   ]
  },
  {
   "cell_type": "markdown",
   "id": "7a244f1a",
   "metadata": {},
   "source": [
    "运行代码，可以看到相应的图片结果以及在700平方英尺时，房屋的预测价格为21915.43。"
   ]
  }
 ],
 "metadata": {
  "kernelspec": {
   "display_name": "Python 3 (ipykernel)",
   "language": "python",
   "name": "python3"
  },
  "language_info": {
   "codemirror_mode": {
    "name": "ipython",
    "version": 3
   },
   "file_extension": ".py",
   "mimetype": "text/x-python",
   "name": "python",
   "nbconvert_exporter": "python",
   "pygments_lexer": "ipython3",
   "version": "3.11.4"
  }
 },
 "nbformat": 4,
 "nbformat_minor": 5
}
