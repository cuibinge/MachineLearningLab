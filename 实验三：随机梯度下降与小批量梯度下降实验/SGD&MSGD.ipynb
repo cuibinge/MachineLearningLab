{
 "cells": [
  {
   "cell_type": "markdown",
   "metadata": {},
   "source": [
    "# 随机梯度下降和小批量梯度下降算法"
   ]
  },
  {
   "cell_type": "markdown",
   "metadata": {},
   "source": [
    "### 1.实验内容"
   ]
  },
  {
   "cell_type": "markdown",
   "metadata": {},
   "source": [
    "本实验中使用两个不同的数据集分别来测试随机梯度下降和小批量梯度下降算法。"
   ]
  },
  {
   "cell_type": "markdown",
   "metadata": {},
   "source": [
    "### 2.实验目标"
   ]
  },
  {
   "cell_type": "markdown",
   "metadata": {},
   "source": [
    "掌握随机梯度下降和小批量梯度下降算法，学会如何运用这两种方法对算法进行优化。"
   ]
  },
  {
   "cell_type": "markdown",
   "metadata": {},
   "source": [
    "### 3.实验知识点"
   ]
  },
  {
   "cell_type": "markdown",
   "metadata": {},
   "source": [
    "随机梯度下降和小批量梯度下降算法"
   ]
  },
  {
   "cell_type": "markdown",
   "metadata": {},
   "source": [
    "### 4.实验环境"
   ]
  },
  {
   "cell_type": "markdown",
   "metadata": {},
   "source": [
    "* python 3.6.5"
   ]
  },
  {
   "cell_type": "markdown",
   "metadata": {},
   "source": [
    "### 5.预备知识"
   ]
  },
  {
   "cell_type": "markdown",
   "metadata": {},
   "source": [
    "* Python编程基础\n",
    "* Linux命令基本操作\n",
    "* Python编程基础"
   ]
  },
  {
   "cell_type": "code",
   "execution_count": 7,
   "metadata": {},
   "outputs": [],
   "source": [
    "import numpy as np\n",
    "from matplotlib import pyplot as plt\n",
    "from sklearn.datasets import fetch_california_housing\n",
    "from sklearn.model_selection import train_test_split\n",
    "from sklearn.preprocessing import StandardScaler\n",
    "from sklearn.preprocessing import MinMaxScaler\n",
    "from sklearn.metrics import mean_squared_error\n",
    "from sklearn.metrics import r2_score"
   ]
  },
  {
   "cell_type": "markdown",
   "metadata": {},
   "source": [
    "## 实现小批量梯度下降算法对线性回归求解"
   ]
  },
  {
   "cell_type": "code",
   "execution_count": 6,
   "metadata": {},
   "outputs": [],
   "source": [
    "\"\"\"\n",
    "类说明：LinearRegression_msgd\n",
    "    编写代码实现利用小批量梯度下降算法对线性回归求解：\n",
    "    1. 随机选出B条训练数据\n",
    "    2. 计算选出B条训练数据上的经验损失梯度\n",
    "    3. 更新 w 的值\n",
    "    \n",
    "Parameters:\n",
    "      X   - 数据\n",
    "      y   - 标签\n",
    "    eat_0 - 算法参数\n",
    "    eta_1 - 算法参数\n",
    "      N   - 搜索步数\n",
    "      B   - 批次大小\n",
    "Returns:\n",
    "\"\"\"\n",
    "class LinearRegression_msgd:    \n",
    "    \n",
    "    def fit(self, X, y, eta_0 = 10, eta_1 = 50, N = 3000, B = 10):\n",
    "#####  Start Code Here  #####\n",
    "        self.N = N\n",
    "    \n",
    "        # 用于绘图\n",
    "        self.W = np.zeros((N,1))\n",
    "        \n",
    "        # 获取 X 的维度\n",
    "           \n",
    "            \n",
    "        # 初始化权重\n",
    "\n",
    "        \n",
    "        # 开始 N 轮循环, 进行梯度下降搜索\n",
    "        for t in range(N):\n",
    "\n",
    "            \n",
    "            self.W[t][0] = np.sum(w[0])\n",
    "            \n",
    "        self.w /= N\n",
    "#####  End Code Here  #####    \n",
    "    def predict(self, X):\n",
    "        return X.dot(self.w)"
   ]
  },
  {
   "cell_type": "markdown",
   "metadata": {},
   "source": [
    "## 实现随机梯度下降算法对线性回归求解"
   ]
  },
  {
   "cell_type": "code",
   "execution_count": 4,
   "metadata": {},
   "outputs": [],
   "source": [
    "\"\"\"\n",
    "类说明：LinearRegression\n",
    "    编写代码实现利随机梯度下降算法对线性回归求解：\n",
    "    1. 从训练数据中进行随机采样\n",
    "    2. 计算经验损失的梯度\n",
    "    3. 更新 w 的值\n",
    "Parameters:\n",
    "      X   - 数据\n",
    "      y   - 标签\n",
    "    eat_0 - 算法参数\n",
    "    eta_1 - 算法参数\n",
    "      N   - 搜索步数\n",
    "Returns:\n",
    "\"\"\"\n",
    "class LinearRegression:\n",
    "\n",
    "    def fit(self, X, y, eta_0 = 10, eta_1 = 50, N = 3000):\n",
    "#####  Start Code Here  #####\n",
    "        # 获取X的维度\n",
    "        \n",
    "        \n",
    "        # 用于绘图\n",
    "        self.W = np.zeros((N, 1))\n",
    "        \n",
    "        # 初始化权重 w\n",
    "       \n",
    "    \n",
    "        # 开始 N 轮循环, 进行梯度下降搜索\n",
    "        for t in range(N):\n",
    "            \n",
    "            \n",
    "            self.W[t][0] = np.sum(w[0])\n",
    "            \n",
    "\n",
    "#####  End Code Here  #####  \n",
    "        self.w /= N\n",
    "    \n",
    "    def predict(self, X):\n",
    "        return X.dot(self.w)"
   ]
  },
  {
   "cell_type": "markdown",
   "metadata": {},
   "source": [
    "## 【实验实战】：飞机噪音"
   ]
  },
  {
   "cell_type": "markdown",
   "metadata": {},
   "source": [
    "使用一个来自 NASA 的测试不同飞机机翼噪音的数据集来比较随机梯度下降算法和小批量梯度下降算法，我们使用该数据集的前 1500 个样本和 5 个特征，并使用标准化对数据进行预处理。"
   ]
  },
  {
   "cell_type": "code",
   "execution_count": 11,
   "metadata": {},
   "outputs": [],
   "source": [
    "def get_data_ch7():  \n",
    "    data = np.genfromtxt('airfoil_self_noise.dat', delimiter = '\\t')\n",
    "    data = (data - data.mean(axis = 0)) / data.std(axis = 0)\n",
    "    return np.array(data[:1300, :-1]), np.array(data[:1300, -1]), np.array(data[1300:1500, :-1]), np.array(data[1300:1500, -1])"
   ]
  },
  {
   "cell_type": "code",
   "execution_count": null,
   "metadata": {},
   "outputs": [],
   "source": [
    "# 获取训练集合测试\n",
    "X_train, y_train,X_test, y_test  = get_data_ch7()\n",
    "\n",
    "#####  Start Code Here  #####\n",
    "# 使用 process_features函数对数据进行标准化处理\n",
    "\n",
    "\n",
    "# 定义随机梯度下降算法模型\n",
    "\n",
    "\n",
    "# 模型训练\n",
    "\n",
    "\n",
    "W = model.W\n",
    "fig = plt.figure(figsize = (20,8),dpi = 80)\n",
    "y = np.linspace(1,model.N, model.N)\n",
    "plt.plot(y, W)\n",
    "plt.show()\n",
    "\n",
    "# 计算均方误差和r2系数\n",
    "y_pred = model.predict(X_test)\n",
    "mse = mean_squared_error(y_test, y_pred)\n",
    "score = r2_score(y_test, y_pred)\n",
    "print(\"mse = {}, r2 = {}\".format(mse, score))\n",
    "\n",
    "# 定义小批量梯度下降算法模型\n",
    "\n",
    "\n",
    "# 模型训练\n",
    "\n",
    "\n",
    "#####  End Code Here  #####\n",
    "W = model.W\n",
    "fig = plt.figure(figsize = (20,8), dpi = 80)\n",
    "y = np.linspace(1,model.N, model.N)\n",
    "plt.plot(y, W)\n",
    "plt.show()\n",
    "\n",
    "# 计算均方误差和r2系数\n",
    "y_pred = model.predict(X_test)\n",
    "mse = mean_squared_error(y_test, y_pred)\n",
    "score = r2_score(y_test, y_pred)\n",
    "print(\"mse = {}, r2 = {}\".format(mse, score))"
   ]
  },
  {
   "cell_type": "code",
   "execution_count": null,
   "metadata": {},
   "outputs": [],
   "source": []
  }
 ],
 "metadata": {
  "interpreter": {
   "hash": "e42634819b8c191a5d07eaf23810ff32516dd8d3875f28ec3e488928fbd3c187"
  },
  "kernelspec": {
   "display_name": "Python 3 (ipykernel)",
   "language": "python",
   "name": "python3"
  },
  "language_info": {
   "codemirror_mode": {
    "name": "ipython",
    "version": 3
   },
   "file_extension": ".py",
   "mimetype": "text/x-python",
   "name": "python",
   "nbconvert_exporter": "python",
   "pygments_lexer": "ipython3",
   "version": "3.11.4"
  }
 },
 "nbformat": 4,
 "nbformat_minor": 2
}
