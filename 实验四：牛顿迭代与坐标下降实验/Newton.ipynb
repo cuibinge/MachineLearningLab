{
 "cells": [
  {
   "cell_type": "markdown",
   "metadata": {},
   "source": [
    "# 实验四：牛顿迭代算法和坐标下降算法\n",
    "### 概述\n",
    "&ensp;&ensp; 本实验中测试牛顿迭代算法和坐标下降算法。\n",
    "### 实验环境\n",
    "+ Ubuntu\n",
    "+ Jupyter NoteBook\n",
    "\n",
    "### 实验目标\n",
    "\n",
    "   完成本实验后，您能够\n",
    "1. 掌握如何对数据进行标准化及归一化处理\n",
    "2. 掌握如何使用坐标下降算法对算法进行优化\n",
    "3. 掌握如何使用牛顿迭代算法对算法进行优化"
   ]
  },
  {
   "cell_type": "code",
   "execution_count": null,
   "metadata": {},
   "outputs": [],
   "source": [
    "#导入相关库文件\n",
    "import numpy as np\n",
    "import pandas as pd\n",
    "from matplotlib import pyplot as plt\n",
    "from sklearn.model_selection import train_test_split\n",
    "from sklearn.preprocessing import StandardScaler\n",
    "from sklearn.preprocessing import MinMaxScaler\n",
    "from sklearn.metrics import mean_squared_error\n",
    "from sklearn.metrics import r2_score"
   ]
  },
  {
   "cell_type": "markdown",
   "metadata": {},
   "source": [
    "### 任务1：牛顿迭代算法\n",
    "#### 【任务目标】\n",
    "实现牛顿迭代算法对函数$F(w)^{2}$求解\n",
    "#### 【任务步骤】\n",
    "1. 设置初始参数值\n",
    "2. 通过公式不断更新 w 的值\n",
    "3. 获取最优解"
   ]
  },
  {
   "cell_type": "code",
   "execution_count": null,
   "metadata": {
    "scrolled": true
   },
   "outputs": [],
   "source": [
    "import numpy as np\n",
    "import matplotlib.pyplot as plt\n",
    "\n",
    "def f(w):\n",
    "    return w ** 2\n",
    "\n",
    "x, y = [], []\n",
    "eta, epsilon = 0.1, 0.01\n",
    "\n",
    "# 将w参数初始为-1.5 \n",
    "w = -1.5\n",
    "\n",
    "# 通过课本式4.22更新w的值\n",
    "while abs(f(w)) > epsilon:\n",
    "    \n",
    "\n",
    "print(w)\n",
    "\n",
    "# 可视化\n",
    "W = np.linspace(-2, 2, 100).reshape(100, 1)\n",
    "u = f(W)\n",
    "plt.plot(W, u)\n",
    "plt.scatter(x, y)\n",
    "plt.show()"
   ]
  },
  {
   "cell_type": "markdown",
   "metadata": {},
   "source": [
    "### 任务2：坐标下降算法\n",
    "#### 【任务目标】\n",
    "实现Lasso回归问题的坐标下降算法实现\n",
    "#### 【任务步骤】\n",
    "1. 随机选出B条训练数据\n",
    "2. 计算选出B条训练数据上的经验损失梯度\n",
    "3. 更新 w 的值"
   ]
  },
  {
   "cell_type": "code",
   "execution_count": null,
   "metadata": {},
   "outputs": [],
   "source": [
    "\"\"\"\n",
    "类说明：Lasso\n",
    "    编写代码实现利用坐标下降算法对Lasso回归问题求解\n",
    "Parameters:\n",
    "    Lambda - 算法参数\n",
    "Returns:\n",
    "\"\"\"\n",
    "class Lasso:  \n",
    "    def __init__(self, Lambda=1):\n",
    "        self.lambda_ = Lambda\n",
    "\n",
    "#####  Start Code Here  #####\n",
    "    # 实现柔和阈值函数\n",
    "    def soft_threshold(self, t, x):\n",
    "        \n",
    "        \n",
    "        \n",
    "    def fit(self, X, y, N=1000):\n",
    "        # 获取X的维度\n",
    "        m,n = X.shape\n",
    "        \n",
    "        alpha = 2 * np.sum(X**2, axis=0) / m\n",
    "        w = np.zeros(n)\n",
    "        \n",
    "        # 循环处理每一分量\n",
    "        for t in range(N):\n",
    "           \n",
    "        \n",
    "        self.w = w\n",
    "    \n",
    "    def predict(self, X):\n",
    "        return X.dot(self.w.reshape(-1,1))"
   ]
  },
  {
   "cell_type": "markdown",
   "metadata": {},
   "source": [
    "##  【实验实战】预测车辆行驶距离"
   ]
  },
  {
   "cell_type": "markdown",
   "metadata": {},
   "source": [
    "在本小节中，通过车辆的数据来预测车辆单位加仑油量可以行驶的距离，使用的数据集为“车辆MPG数据集”，英文名为“auto-mpg.data”。该数据集的详细介绍信息请访问：http://archive.ics.uci.edu/ml/datasets/Auto+MPG ，数据集下载地址：http://archive.ics.uci.edu/ml/machine-learning-databases/auto-mpg/， 打开页面后选择“auto-mpg.data”。该数据集共有9列，依次为其单位加仑油量行驶距离、气缸数、排量、马力、重量、加速度、车型年份、产地、车型名称。为了方便处理，本实验已经将该数据集转换为csv文件格式，即文件“auto_mpg.csv”。当然如果你足够熟悉pandas库的话，也可以直接处理auto-mpg.data文件。"
   ]
  },
  {
   "cell_type": "code",
   "execution_count": null,
   "metadata": {},
   "outputs": [],
   "source": [
    "cat auto_mpg.csv"
   ]
  },
  {
   "cell_type": "code",
   "execution_count": null,
   "metadata": {},
   "outputs": [],
   "source": [
    "# 从csv文件中读取数据，分别为：X列表和对应的Y列表\n",
    "def get_data(file_name):\n",
    "    # 1. 用pandas读取csv\n",
    "    data = pd.read_csv(file_name) \n",
    "    # 2. 构造X列表和Y列表\n",
    "    X = []\n",
    "    Y = []\n",
    "    #这里使用了cylinders，weight两个特征值，不是最优，也没有进行处理，只是给出例子，需要自己处理数据\n",
    "    for cylinders,weight,mpg in zip(data['cylinders'],data['weight'],data['mpg']):\n",
    "        X.append([float(cylinders),float(weight)])\n",
    "        Y.append([float(mpg)])\n",
    "    \n",
    "    return X,Y\n",
    "\n",
    "#读取数据\n",
    "X,y = get_data('auto_mpg.csv')\n",
    "\n",
    "# 划分训练集和测试集，测试数据大小需在0.1-0.9之间，也不可对y进行更改\n",
    "X_train, X_test, y_train, y_test = train_test_split(X, y, test_size=0.2, random_state=0)\n",
    "\n",
    "# 训练及预测\n",
    "\n",
    "\n",
    "# 计算均方误差和分数\n",
    "mse = mean_squared_error(y_test, y_pred)\n",
    "score = r2_score(y_test, y_pred)\n",
    "print(\"mse = {}, r2 = {}\".format(mse, score))"
   ]
  }
 ],
 "metadata": {
  "interpreter": {
   "hash": "e42634819b8c191a5d07eaf23810ff32516dd8d3875f28ec3e488928fbd3c187"
  },
  "kernelspec": {
   "display_name": "Python 3 (ipykernel)",
   "language": "python",
   "name": "python3"
  },
  "language_info": {
   "codemirror_mode": {
    "name": "ipython",
    "version": 3
   },
   "file_extension": ".py",
   "mimetype": "text/x-python",
   "name": "python",
   "nbconvert_exporter": "python",
   "pygments_lexer": "ipython3",
   "version": "3.11.4"
  }
 },
 "nbformat": 4,
 "nbformat_minor": 2
}
