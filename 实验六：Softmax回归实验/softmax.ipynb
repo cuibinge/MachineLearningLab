{
 "cells": [
  {
   "cell_type": "markdown",
   "metadata": {},
   "source": [
    "# 实验六：Softmax回归算法"
   ]
  },
  {
   "cell_type": "markdown",
   "metadata": {},
   "source": [
    "### 概述\n",
    "&ensp;&ensp;本实验介绍Softmax回归算法具体应用。\n",
    "\n",
    "### 实验环境\n",
    "+ 希冀云实验平台\n",
    "+ Ubuntu\n",
    "+ Jupyter NoteBook\n",
    "\n",
    "### 实验目标\n",
    "完成本实验后，您能够\n",
    "\n",
    "1. 通过本实验进一步掌握Softmax回归算法的原理。\n",
    "2. 掌握如何使用Softmax回归算法解决实际问题。\n",
    "3. 掌握使用机器学习方法解决现实世界问题的流程。"
   ]
  },
  {
   "cell_type": "markdown",
   "metadata": {},
   "source": [
    "### 任务：Softmax回归\n",
    "#### 【任务内容】\n",
    "    奥托集团是世界上最大的电子商务公司之一，在20多个国家拥有子公司，包括美国的Crate & Barrel，德国的Otto.de和法国的3 Suisse。我们每天在全球销售数以百万计的产品，其中有几千种产品加入到我们的产品线中。\n",
    "    对我们产品性能的一致分析是至关重要的。然而，由于我们多元化的全球基础设施，许多相同的产品被分类不同。因此，我们产品分析的质量在很大程度上依赖于对相似产品进行准确聚类的能力。分类越好，我们对产品范围的了解就越多。\n",
    "    我们为超过200,000个产品提供了包含93个特性的数据集。我们的目标是建立一个能够区分我们主要产品类别的预测模型。\n",
    "#### 【任务目标】\n",
    "    使用Softmax回归来解决奥托产品分类问题\n",
    "#### 【任务步骤】\n",
    "1. 传入特征组和标签，以及学习率和搜索步数\n",
    "2. 模型训练\n",
    "3. 使用测试集进行预测\n",
    "4. 输出准确率"
   ]
  },
  {
   "cell_type": "code",
   "execution_count": null,
   "metadata": {},
   "outputs": [],
   "source": [
    "#倒入相关库文件\n",
    "import numpy as np\n",
    "import pandas as pd\n",
    "import matplotlib.pyplot as plt\n",
    "import seaborn as sns\n",
    "from sklearn.preprocessing import MinMaxScaler\n",
    "from sklearn.metrics import accuracy_score\n",
    "from sklearn.metrics import recall_score\n",
    "from sklearn.metrics import precision_score\n",
    "from sklearn.metrics import f1_score\n",
    "from sklearn.model_selection import train_test_split"
   ]
  },
  {
   "cell_type": "code",
   "execution_count": null,
   "metadata": {},
   "outputs": [],
   "source": [
    "#首先我们先观察一下数据的总体描述\n",
    "data = pd.read_csv('data.csv')\n",
    "data.describe(include='all')"
   ]
  },
  {
   "cell_type": "code",
   "execution_count": null,
   "metadata": {},
   "outputs": [],
   "source": [
    "#观察数据的任意五行\n",
    "data.sample(5)"
   ]
  },
  {
   "cell_type": "markdown",
   "metadata": {},
   "source": [
    "数据集一共61878行95列（包括上述特征和target）\n",
    "由于target是字符型变量，我们画图展示，代码如下："
   ]
  },
  {
   "cell_type": "code",
   "execution_count": null,
   "metadata": {},
   "outputs": [],
   "source": [
    "sns.countplot(data[\"target\"])\n",
    "plt.show()"
   ]
  },
  {
   "cell_type": "code",
   "execution_count": null,
   "metadata": {},
   "outputs": [],
   "source": [
    "#target一共9个类别。由于是字符型，定义一个函数将target的类别标签转为index表示，方便后面计算交叉熵\n",
    "def target2idx(targets):\n",
    "    target_idx = []\n",
    "    target_labels = ['Class_1', 'Class_2', 'Class_3', 'Class_4', 'Class_5', 'Class_6', 'Class_7', 'Class_8', 'Class_9','Class_10']\n",
    "    for target in targets:\n",
    "        target_idx.append(target_labels.index(target))\n",
    "    return target_idx\n",
    "\n",
    "#向量转化函数(提供参考，自行选择是否使用)\n",
    "def convert_to_vectors(c):\n",
    "    m = len(c)\n",
    "    k = np.max(c) + 1\n",
    "    y = np.zeros(m * k).reshape(m,k)\n",
    "    for i in range(m):\n",
    "        y[i][c[i]] = 1\n",
    "    return y\n",
    "\n",
    "#特征处理函数(提供参考，自行选择是否使用)\n",
    "def process_features(X):\n",
    "    scaler = MinMaxScaler(feature_range=(0,1))\n",
    "    X = scaler.fit_transform(1.0*X)\n",
    "    m, n = X.shape\n",
    "    X = np.c_[np.ones((m, 1)), X] \n",
    "    return X"
   ]
  },
  {
   "cell_type": "code",
   "execution_count": null,
   "metadata": {},
   "outputs": [],
   "source": [
    "#数据获取样例，可自行处理\n",
    "X = np.array(data)[:,1:-1].astype(float)\n",
    "c = target2idx(data['target'])\n",
    "y = convert_to_vectors(c)\n",
    "#划分训练集和测试集比例在0.1-0.9之间\n",
    "X_train, X_test, y_train, y_test, c_train, c_test = train_test_split(X, y, c, random_state = 0, test_size = 0.2)"
   ]
  },
  {
   "cell_type": "code",
   "execution_count": null,
   "metadata": {},
   "outputs": [],
   "source": [
    "#模型训练及预测\n",
    "\n",
    "\n",
    "\n"
   ]
  },
  {
   "cell_type": "code",
   "execution_count": null,
   "metadata": {},
   "outputs": [],
   "source": [
    "#计算指标，本指标使用加权的方式计算多分类问题，accuracy和recall相等，可将其原因写入报告\n",
    "accuracy = accuracy_score(c_test, c_pred)\n",
    "precision = precision_score(c_test, c_pred,average = 'weighted')\n",
    "recall = recall_score(c_test, c_pred,average = 'weighted')\n",
    "f1 = f1_score(c_test, c_pred,average = 'weighted')\n",
    "print(\"accuracy = {}\".format(accuracy))\n",
    "print(\"precision = {}\".format(precision))\n",
    "print(\"recall = {}\".format(recall))\n",
    "print(\"f1 = {}\".format(f1))"
   ]
  }
 ],
 "metadata": {
  "kernelspec": {
   "display_name": "Python 3",
   "language": "python",
   "name": "python3"
  },
  "language_info": {
   "codemirror_mode": {
    "name": "ipython",
    "version": 3
   },
   "file_extension": ".py",
   "mimetype": "text/x-python",
   "name": "python",
   "nbconvert_exporter": "python",
   "pygments_lexer": "ipython3",
   "version": "3.8.8"
  }
 },
 "nbformat": 4,
 "nbformat_minor": 2
}
